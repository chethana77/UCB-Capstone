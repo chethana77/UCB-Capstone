{
 "cells": [
  {
   "cell_type": "markdown",
   "id": "660b9dec",
   "metadata": {},
   "source": [
    "# Understanding the Business Problem:\n",
    "    \n",
    "Goal is to compare the performance of the classifiers (k-nearest neighbors, logistic regression, decision trees, and support vector machines).Use a dataset related to the marketing of bank products over the telephone."
   ]
  },
  {
   "cell_type": "markdown",
   "id": "9e3a7e21",
   "metadata": {},
   "source": [
    "## Key Objectives:\n",
    "** Identify High-Potential Customers: Analyze customer data to pinpoint individuals who are most likely to subscribe to the bank's products when approached over the telephone. This will allow the marketing team to focus their efforts on the most promising leads.\n",
    "** Improve Conversion Rates: By targeting the right customers, the bank can increase the success rate of its telephone-based sales efforts, leading to higher conversion rates and more efficient use of resources.\n",
    "** Optimize Resource Allocation: With a better understanding of which customers are most receptive to telephone-based marketing, the bank can allocate its resources, such as sales staff and calling campaigns, more effectively to maximize returns.\n",
    "** Enhance Customer Experience: Tailoring the telephone-based marketing approach to the preferences and needs of high-potential customers can lead to a more positive and engaging experience for the customer, further improving the bank's reputation and customer loyalty."
   ]
  },
  {
   "cell_type": "markdown",
   "id": "601f47e3",
   "metadata": {},
   "source": [
    "## Optimize Resource Allocation\n",
    "\n",
    "With a better understanding of the high-potential customer segments and the most effective marketing approaches, the bank can allocate its resources, such as sales staff and calling campaigns, more efficiently to maximize returns. This includes:\n",
    "Targeted Deployment: Assign sales personnel and calling campaigns to focus on the identified high-potential customer segments, ensuring that resources are directed towards the most promising leads.\n",
    "\n",
    "Continuous Optimization: Regularly monitor and analyze the performance of telephone-based marketing campaigns, making adjustments to the strategies and tactics as needed to optimize resource allocation.\n",
    "\n",
    "Collaboration and Feedback: Encourage open communication and feedback between the marketing, sales, and customer service teams to continuously improve the telephone-based marketing approach and enhance the overall customer experience.\n",
    "\n",
    "By optimizing resource allocation, the bank can achieve higher conversion rates and more efficient use of its marketing resources."
   ]
  },
  {
   "cell_type": "markdown",
   "id": "2e1dc78c",
   "metadata": {},
   "source": [
    "### Data Preparation:\n",
    "\n",
    "1. Load the dataset from the provided 'bank+marketing.zip' file."
   ]
  },
  {
   "cell_type": "code",
   "execution_count": 1,
   "id": "6988a937",
   "metadata": {},
   "outputs": [
    {
     "name": "stdout",
     "output_type": "stream",
     "text": [
      "Data loaded successfully.\n",
      "  age;\"job\";\"marital\";\"education\";\"default\";\"balance\";\"housing\";\"loan\";\"contact\";\"day\";\"month\";\"duration\";\"campaign\";\"pdays\";\"previous\";\"poutcome\";\"y\"\n",
      "0  30;\"unemployed\";\"married\";\"primary\";\"no\";1787;...                                                                                                  \n",
      "1  33;\"services\";\"married\";\"secondary\";\"no\";4789;...                                                                                                  \n",
      "2  35;\"management\";\"single\";\"tertiary\";\"no\";1350;...                                                                                                  \n",
      "3  30;\"management\";\"married\";\"tertiary\";\"no\";1476...                                                                                                  \n",
      "4  59;\"blue-collar\";\"married\";\"secondary\";\"no\";0;...                                                                                                  \n"
     ]
    }
   ],
   "source": [
    "import pandas as pd\n",
    "\n",
    "# Loading the bank.csv file\n",
    "bank_data = pd.read_csv('data/bank/bank.csv')\n",
    "print('Data loaded successfully.')\n",
    "print(bank_data.head())"
   ]
  },
  {
   "cell_type": "code",
   "execution_count": 2,
   "id": "5cce362a",
   "metadata": {},
   "outputs": [
    {
     "name": "stdout",
     "output_type": "stream",
     "text": [
      "Dataset Info:\n",
      "<class 'pandas.core.frame.DataFrame'>\n",
      "RangeIndex: 4521 entries, 0 to 4520\n",
      "Data columns (total 1 columns):\n",
      " #   Column                                                                                                                                                Non-Null Count  Dtype \n",
      "---  ------                                                                                                                                                --------------  ----- \n",
      " 0   age;\"job\";\"marital\";\"education\";\"default\";\"balance\";\"housing\";\"loan\";\"contact\";\"day\";\"month\";\"duration\";\"campaign\";\"pdays\";\"previous\";\"poutcome\";\"y\"  4521 non-null   object\n",
      "dtypes: object(1)\n",
      "memory usage: 35.4+ KB\n",
      "Descriptive Statistics:\n",
      "       age;\"job\";\"marital\";\"education\";\"default\";\"balance\";\"housing\";\"loan\";\"contact\";\"day\";\"month\";\"duration\";\"campaign\";\"pdays\";\"previous\";\"poutcome\";\"y\"\n",
      "count                                                4521                                                                                                  \n",
      "unique                                               4521                                                                                                  \n",
      "top     30;\"unemployed\";\"married\";\"primary\";\"no\";1787;...                                                                                                  \n",
      "freq                                                    1                                                                                                  \n",
      "Missing Values:\n",
      "age;\"job\";\"marital\";\"education\";\"default\";\"balance\";\"housing\";\"loan\";\"contact\";\"day\";\"month\";\"duration\";\"campaign\";\"pdays\";\"previous\";\"poutcome\";\"y\"    0\n",
      "dtype: int64\n"
     ]
    }
   ],
   "source": [
    "# Displaying basic information about the dataset\n",
    "print('Dataset Info:')\n",
    "bank_data.info()\n",
    "\n",
    "# Displaying descriptive statistics\n",
    "print('\\\n",
    "Descriptive Statistics:')\n",
    "print(bank_data.describe(include='all'))\n",
    "\n",
    "# Checking for missing values\n",
    "print('\\\n",
    "Missing Values:')\n",
    "print(bank_data.isnull().sum())"
   ]
  },
  {
   "cell_type": "code",
   "execution_count": 3,
   "id": "d6b23711",
   "metadata": {},
   "outputs": [
    {
     "name": "stdout",
     "output_type": "stream",
     "text": [
      "Data reloaded with correct delimiter.\n",
      "   age          job  marital  education default  balance housing loan  \\\n",
      "0   30   unemployed  married    primary      no     1787      no   no   \n",
      "1   33     services  married  secondary      no     4789     yes  yes   \n",
      "2   35   management   single   tertiary      no     1350     yes   no   \n",
      "3   30   management  married   tertiary      no     1476     yes  yes   \n",
      "4   59  blue-collar  married  secondary      no        0     yes   no   \n",
      "\n",
      "    contact  day month  duration  campaign  pdays  previous poutcome   y  \n",
      "0  cellular   19   oct        79         1     -1         0  unknown  no  \n",
      "1  cellular   11   may       220         1    339         4  failure  no  \n",
      "2  cellular   16   apr       185         1    330         1  failure  no  \n",
      "3   unknown    3   jun       199         4     -1         0  unknown  no  \n",
      "4   unknown    5   may       226         1     -1         0  unknown  no  \n",
      "Updated Dataset Info:\n",
      "<class 'pandas.core.frame.DataFrame'>\n",
      "RangeIndex: 4521 entries, 0 to 4520\n",
      "Data columns (total 17 columns):\n",
      " #   Column     Non-Null Count  Dtype \n",
      "---  ------     --------------  ----- \n",
      " 0   age        4521 non-null   int64 \n",
      " 1   job        4521 non-null   object\n",
      " 2   marital    4521 non-null   object\n",
      " 3   education  4521 non-null   object\n",
      " 4   default    4521 non-null   object\n",
      " 5   balance    4521 non-null   int64 \n",
      " 6   housing    4521 non-null   object\n",
      " 7   loan       4521 non-null   object\n",
      " 8   contact    4521 non-null   object\n",
      " 9   day        4521 non-null   int64 \n",
      " 10  month      4521 non-null   object\n",
      " 11  duration   4521 non-null   int64 \n",
      " 12  campaign   4521 non-null   int64 \n",
      " 13  pdays      4521 non-null   int64 \n",
      " 14  previous   4521 non-null   int64 \n",
      " 15  poutcome   4521 non-null   object\n",
      " 16  y          4521 non-null   object\n",
      "dtypes: int64(7), object(10)\n",
      "memory usage: 600.6+ KB\n",
      "Updated Descriptive Statistics:\n",
      "                age         job  marital  education default       balance  \\\n",
      "count   4521.000000        4521     4521       4521    4521   4521.000000   \n",
      "unique          NaN          12        3          4       2           NaN   \n",
      "top             NaN  management  married  secondary      no           NaN   \n",
      "freq            NaN         969     2797       2306    4445           NaN   \n",
      "mean      41.170095         NaN      NaN        NaN     NaN   1422.657819   \n",
      "std       10.576211         NaN      NaN        NaN     NaN   3009.638142   \n",
      "min       19.000000         NaN      NaN        NaN     NaN  -3313.000000   \n",
      "25%       33.000000         NaN      NaN        NaN     NaN     69.000000   \n",
      "50%       39.000000         NaN      NaN        NaN     NaN    444.000000   \n",
      "75%       49.000000         NaN      NaN        NaN     NaN   1480.000000   \n",
      "max       87.000000         NaN      NaN        NaN     NaN  71188.000000   \n",
      "\n",
      "       housing  loan   contact          day month     duration     campaign  \\\n",
      "count     4521  4521      4521  4521.000000  4521  4521.000000  4521.000000   \n",
      "unique       2     2         3          NaN    12          NaN          NaN   \n",
      "top        yes    no  cellular          NaN   may          NaN          NaN   \n",
      "freq      2559  3830      2896          NaN  1398          NaN          NaN   \n",
      "mean       NaN   NaN       NaN    15.915284   NaN   263.961292     2.793630   \n",
      "std        NaN   NaN       NaN     8.247667   NaN   259.856633     3.109807   \n",
      "min        NaN   NaN       NaN     1.000000   NaN     4.000000     1.000000   \n",
      "25%        NaN   NaN       NaN     9.000000   NaN   104.000000     1.000000   \n",
      "50%        NaN   NaN       NaN    16.000000   NaN   185.000000     2.000000   \n",
      "75%        NaN   NaN       NaN    21.000000   NaN   329.000000     3.000000   \n",
      "max        NaN   NaN       NaN    31.000000   NaN  3025.000000    50.000000   \n",
      "\n",
      "              pdays     previous poutcome     y  \n",
      "count   4521.000000  4521.000000     4521  4521  \n",
      "unique          NaN          NaN        4     2  \n",
      "top             NaN          NaN  unknown    no  \n",
      "freq            NaN          NaN     3705  4000  \n",
      "mean      39.766645     0.542579      NaN   NaN  \n",
      "std      100.121124     1.693562      NaN   NaN  \n",
      "min       -1.000000     0.000000      NaN   NaN  \n",
      "25%       -1.000000     0.000000      NaN   NaN  \n",
      "50%       -1.000000     0.000000      NaN   NaN  \n",
      "75%       -1.000000     0.000000      NaN   NaN  \n",
      "max      871.000000    25.000000      NaN   NaN  \n",
      "Updated Missing Values:\n",
      "age          0\n",
      "job          0\n",
      "marital      0\n",
      "education    0\n",
      "default      0\n",
      "balance      0\n",
      "housing      0\n",
      "loan         0\n",
      "contact      0\n",
      "day          0\n",
      "month        0\n",
      "duration     0\n",
      "campaign     0\n",
      "pdays        0\n",
      "previous     0\n",
      "poutcome     0\n",
      "y            0\n",
      "dtype: int64\n"
     ]
    }
   ],
   "source": [
    "# Reloading the data with the correct delimiter\n",
    "bank_data = pd.read_csv('data/bank/bank.csv', delimiter=';')\n",
    "print('Data reloaded with correct delimiter.')\n",
    "print(bank_data.head())\n",
    "\n",
    "# Displaying basic information about the dataset again\n",
    "print('Updated Dataset Info:')\n",
    "bank_data.info()\n",
    "\n",
    "# Displaying descriptive statistics again\n",
    "print('\\\n",
    "Updated Descriptive Statistics:')\n",
    "print(bank_data.describe(include='all'))\n",
    "\n",
    "# Checking for missing values again\n",
    "print('\\\n",
    "Updated Missing Values:')\n",
    "print(bank_data.isnull().sum())"
   ]
  },
  {
   "cell_type": "markdown",
   "id": "04d46c80",
   "metadata": {},
   "source": [
    "#### Descriptive Statistics:\n",
    "The dataset includes various categorical and numerical columns such as 'job', 'marital', 'education', 'default', 'balance', 'housing', 'loan', 'contact', 'month', 'poutcome', and 'y'.\n",
    "The 'age' column, for example, has values ranging from young adults to seniors, which might be useful for demographic analysis.\n"
   ]
  },
  {
   "cell_type": "markdown",
   "id": "f71f1a72",
   "metadata": {},
   "source": [
    "Generate descriptive statistics to summarize the central tendency, dispersion, and shape of the dataset’s distribution.\n",
    "\n"
   ]
  },
  {
   "cell_type": "code",
   "execution_count": 4,
   "id": "6ac3e936",
   "metadata": {},
   "outputs": [
    {
     "name": "stdout",
     "output_type": "stream",
     "text": [
      "Descriptive Statistics for Numerical Columns:\n",
      "               age       balance          day     duration     campaign  \\\n",
      "count  4521.000000   4521.000000  4521.000000  4521.000000  4521.000000   \n",
      "mean     41.170095   1422.657819    15.915284   263.961292     2.793630   \n",
      "std      10.576211   3009.638142     8.247667   259.856633     3.109807   \n",
      "min      19.000000  -3313.000000     1.000000     4.000000     1.000000   \n",
      "25%      33.000000     69.000000     9.000000   104.000000     1.000000   \n",
      "50%      39.000000    444.000000    16.000000   185.000000     2.000000   \n",
      "75%      49.000000   1480.000000    21.000000   329.000000     3.000000   \n",
      "max      87.000000  71188.000000    31.000000  3025.000000    50.000000   \n",
      "\n",
      "             pdays     previous  \n",
      "count  4521.000000  4521.000000  \n",
      "mean     39.766645     0.542579  \n",
      "std     100.121124     1.693562  \n",
      "min      -1.000000     0.000000  \n",
      "25%      -1.000000     0.000000  \n",
      "50%      -1.000000     0.000000  \n",
      "75%      -1.000000     0.000000  \n",
      "max     871.000000    25.000000  \n",
      "Descriptive Statistics for Categorical Columns:\n",
      "               job  marital  education default housing  loan   contact month  \\\n",
      "count         4521     4521       4521    4521    4521  4521      4521  4521   \n",
      "unique          12        3          4       2       2     2         3    12   \n",
      "top     management  married  secondary      no     yes    no  cellular   may   \n",
      "freq           969     2797       2306    4445    2559  3830      2896  1398   \n",
      "\n",
      "       poutcome     y  \n",
      "count      4521  4521  \n",
      "unique        4     2  \n",
      "top     unknown    no  \n",
      "freq       3705  4000  \n"
     ]
    }
   ],
   "source": [
    "# Generating descriptive statistics for numerical columns\n",
    "numerical_stats = bank_data.describe()\n",
    "print('Descriptive Statistics for Numerical Columns:')\n",
    "print(numerical_stats)\n",
    "\n",
    "# Generating descriptive statistics for categorical columns\n",
    "categorical_stats = bank_data.describe(include=['object'])\n",
    "print('\\\n",
    "Descriptive Statistics for Categorical Columns:')\n",
    "print(categorical_stats)"
   ]
  },
  {
   "cell_type": "markdown",
   "id": "264e23da",
   "metadata": {},
   "source": [
    "### Numerical Columns:\n",
    "\n",
    "Age: The average age is approximately 41 years, with a standard deviation of about 10.6 years, indicating a moderate spread around the mean.\n",
    "Balance: The average yearly balance is about 1423 units, but with a high standard deviation of 3009 units, suggesting a wide variation in balances among customers.\n",
    "Duration: The average duration of the last contact is around 264 seconds, with calls ranging from a few seconds to longer interactions."
   ]
  },
  {
   "cell_type": "raw",
   "id": "cdc37b92",
   "metadata": {},
   "source": [
    "# age\t    balance\tday\tduration\tcampaign\tpdays\tprevious\n",
    "count\t4521.0\t4521.0\t4521.0\t4521.0\t4521.0\t4521.0\t4521.0\n",
    "mean\t41.17009511170095\t1422.6578190665782\t15.915284229152842\t263.96129174961294\t2.793629727936297\t39.766644547666445\t0.5425790754257908\n",
    "std\t10.576210958711275\t3009.6381424673496\t8.247667327229966\t259.85663262468245\t3.1098066601886134\t100.12112444301867\t1.6935623506071464\n",
    "min\t19.0\t-3313.0\t1.0\t4.0\t1.0\t-1.0\t0.0\n",
    "25%\t33.0\t69.0\t9.0\t104.0\t1.0\t-1.0\t0.0\n",
    "50%\t39.0\t444.0\t16.0\t185.0\t2.0\t-1.0\t0.0\n",
    "75%\t49.0\t1480.0\t21.0\t329.0\t3.0\t-1.0\t0.0\n",
    "max\t87.0\t71188.0\t31.0\t3025.0\t50.0\t871.0\t25.0"
   ]
  },
  {
   "cell_type": "raw",
   "id": "640aaabe",
   "metadata": {},
   "source": [
    "Categorical Columns:\n",
    "job\tmarital\teducation\tdefault\thousing\tloan\tcontact\tmonth\tpoutcome\ty\n",
    "count\t4521\t4521\t4521\t4521\t4521\t4521\t4521\t4521\t4521\t4521\n",
    "unique\t12\t3\t4\t2\t2\t2\t3\t12\t4\t2\n",
    "top\tmanagement\tmarried\tsecondary\tno\tyes\tno\tcellular\tmay\tunknown\tno\n",
    "freq\t969\t2797\t2306\t4445\t2559\t3830\t2896\t1398\t3705\t4000"
   ]
  },
  {
   "cell_type": "markdown",
   "id": "eae7d3a3",
   "metadata": {},
   "source": [
    "Job: The most common job category is 'management', with 969 occurrences.\n",
    "Marital: The majority of customers are married (2797 instances).\n",
    "Education: The most frequent education level is 'secondary', observed in 2306 cases.\n",
    "Contact: The most common contact communication type is 'cellular', used in 2896 cases.\n",
    "Month: The month with the highest number of contacts is May.\n",
    "Outcome: The outcome of the previous marketing campaign is mostly 'unknown' for a large number of customers (3705 instances)."
   ]
  },
  {
   "cell_type": "markdown",
   "id": "e23c7831",
   "metadata": {},
   "source": [
    "# Visualize important aspects of the data \n",
    "    "
   ]
  },
  {
   "cell_type": "code",
   "execution_count": 5,
   "id": "83f4e77c",
   "metadata": {},
   "outputs": [
    {
     "data": {
      "text/plain": [
       "<Figure size 640x480 with 0 Axes>"
      ]
     },
     "metadata": {},
     "output_type": "display_data"
    },
    {
     "data": {
      "image/png": "[encoded data removed]",
      "text/plain": [
       "<Figure size 1000x600 with 1 Axes>"
      ]
     },
     "metadata": {},
     "output_type": "display_data"
    },
    {
     "data": {
      "image/png": "[encoded data removed]",
      "text/plain": [
       "<Figure size 1000x600 with 1 Axes>"
      ]
     },
     "metadata": {},
     "output_type": "display_data"
    },
    {
     "data": {
      "image/png": "[encoded data removed]",
      "text/plain": [
       "<Figure size 1200x800 with 1 Axes>"
      ]
     },
     "metadata": {},
     "output_type": "display_data"
    },
    {
     "data": {
      "image/png": "[encoded data removed]",
      "text/plain": [
       "<Figure size 1000x600 with 1 Axes>"
      ]
     },
     "metadata": {},
     "output_type": "display_data"
    }
   ],
   "source": [
    "import matplotlib.pyplot as plt\n",
    "import seaborn as sns\n",
    "\n",
    "# Setting the background color for plots\n",
    "plt.figure(facecolor='white')\n",
    "\n",
    "# Distribution of Age\n",
    "plt.figure(figsize=(10, 6))\n",
    "sns.histplot(bank_data['age'], bins=30, kde=True)\n",
    "plt.title('Age Distribution')\n",
    "plt.xlabel('Age')\n",
    "plt.ylabel('Frequency')\n",
    "plt.grid(True)\n",
    "plt.show()\n",
    "\n",
    "# Distribution of Balance\n",
    "plt.figure(figsize=(10, 6))\n",
    "sns.histplot(bank_data['balance'], bins=30, kde=True, color='green')\n",
    "plt.title('Balance Distribution')\n",
    "plt.xlabel('Balance')\n",
    "plt.ylabel('Frequency')\n",
    "plt.grid(True)\n",
    "plt.show()\n",
    "\n",
    "# Job distribution\n",
    "plt.figure(figsize=(12, 8))\n",
    "sns.countplot(y='job', data=bank_data, order=bank_data['job'].value_counts().index)\n",
    "plt.title('Job Distribution')\n",
    "plt.xlabel('Count')\n",
    "plt.ylabel('Job Type')\n",
    "plt.grid(True)\n",
    "plt.show()\n",
    "\n",
    "# Relationship between Age and Balance\n",
    "plt.figure(figsize=(10, 6))\n",
    "sns.scatterplot(x='age', y='balance', data=bank_data)\n",
    "plt.title('Relationship between Age and Balance')\n",
    "plt.xlabel('Age')\n",
    "plt.ylabel('Balance')\n",
    "plt.grid(True)\n",
    "plt.show()"
   ]
  },
  {
   "cell_type": "markdown",
   "id": "b6dafba8",
   "metadata": {},
   "source": [
    "# Split the data into training and testing sets.\n",
    "\n"
   ]
  },
  {
   "cell_type": "code",
   "execution_count": 6,
   "id": "ba01c4a6",
   "metadata": {},
   "outputs": [
    {
     "name": "stdout",
     "output_type": "stream",
     "text": [
      "Training set size: (3616, 16)\n",
      "Testing set size: (905, 16)\n"
     ]
    }
   ],
   "source": [
    "from sklearn.model_selection import train_test_split\n",
    "\n",
    "# Splitting the data into training and testing sets\n",
    "X = bank_data.drop('y', axis=1)  # Features\n",
    "y = bank_data['y']  # Target\n",
    "\n",
    "X_train, X_test, y_train, y_test = train_test_split(X, y, test_size=0.2, random_state=42)\n",
    "\n",
    "# Displaying the sizes of the splits\n",
    "print('Training set size:', X_train.shape)\n",
    "print('Testing set size:', X_test.shape)"
   ]
  },
  {
   "cell_type": "code",
   "execution_count": 8,
   "id": "3c9f8bc4",
   "metadata": {},
   "outputs": [
    {
     "data": {
      "text/plain": [
       "age           int64\n",
       "job          object\n",
       "marital      object\n",
       "education    object\n",
       "default      object\n",
       "balance       int64\n",
       "housing      object\n",
       "loan         object\n",
       "contact      object\n",
       "day           int64\n",
       "month        object\n",
       "duration      int64\n",
       "campaign      int64\n",
       "pdays         int64\n",
       "previous      int64\n",
       "poutcome     object\n",
       "dtype: object"
      ]
     },
     "execution_count": 8,
     "metadata": {},
     "output_type": "execute_result"
    }
   ],
   "source": [
    "X_train.dtypes"
   ]
  },
  {
   "cell_type": "code",
   "execution_count": 9,
   "id": "ec0a67af",
   "metadata": {},
   "outputs": [
    {
     "data": {
      "text/plain": [
       "Index(['age', 'job', 'marital', 'education', 'default', 'balance', 'housing',\n",
       "       'loan', 'contact', 'day', 'month', 'duration', 'campaign', 'pdays',\n",
       "       'previous', 'poutcome'],\n",
       "      dtype='object')"
      ]
     },
     "execution_count": 9,
     "metadata": {},
     "output_type": "execute_result"
    }
   ],
   "source": [
    "X_train.columns"
   ]
  },
  {
   "cell_type": "code",
   "execution_count": 11,
   "id": "8a00db28",
   "metadata": {},
   "outputs": [
    {
     "data": {
      "text/html": [
       "<div>\n",
       "<style scoped>\n",
       "    .dataframe tbody tr th:only-of-type {\n",
       "        vertical-align: middle;\n",
       "    }\n",
       "\n",
       "    .dataframe tbody tr th {\n",
       "        vertical-align: top;\n",
       "    }\n",
       "\n",
       "    .dataframe thead th {\n",
       "        text-align: right;\n",
       "    }\n",
       "</style>\n",
       "<table border=\"1\" class=\"dataframe\">\n",
       "  <thead>\n",
       "    <tr style=\"text-align: right;\">\n",
       "      <th></th>\n",
       "      <th>age</th>\n",
       "      <th>job</th>\n",
       "      <th>marital</th>\n",
       "      <th>education</th>\n",
       "      <th>default</th>\n",
       "      <th>balance</th>\n",
       "      <th>housing</th>\n",
       "      <th>loan</th>\n",
       "      <th>contact</th>\n",
       "      <th>day</th>\n",
       "      <th>month</th>\n",
       "      <th>duration</th>\n",
       "      <th>campaign</th>\n",
       "      <th>pdays</th>\n",
       "      <th>previous</th>\n",
       "      <th>poutcome</th>\n",
       "    </tr>\n",
       "  </thead>\n",
       "  <tbody>\n",
       "    <tr>\n",
       "      <th>978</th>\n",
       "      <td>34</td>\n",
       "      <td>entrepreneur</td>\n",
       "      <td>divorced</td>\n",
       "      <td>tertiary</td>\n",
       "      <td>no</td>\n",
       "      <td>262</td>\n",
       "      <td>no</td>\n",
       "      <td>no</td>\n",
       "      <td>cellular</td>\n",
       "      <td>20</td>\n",
       "      <td>nov</td>\n",
       "      <td>371</td>\n",
       "      <td>1</td>\n",
       "      <td>-1</td>\n",
       "      <td>0</td>\n",
       "      <td>unknown</td>\n",
       "    </tr>\n",
       "    <tr>\n",
       "      <th>251</th>\n",
       "      <td>32</td>\n",
       "      <td>management</td>\n",
       "      <td>married</td>\n",
       "      <td>tertiary</td>\n",
       "      <td>no</td>\n",
       "      <td>2349</td>\n",
       "      <td>no</td>\n",
       "      <td>no</td>\n",
       "      <td>cellular</td>\n",
       "      <td>14</td>\n",
       "      <td>aug</td>\n",
       "      <td>134</td>\n",
       "      <td>5</td>\n",
       "      <td>-1</td>\n",
       "      <td>0</td>\n",
       "      <td>unknown</td>\n",
       "    </tr>\n",
       "    <tr>\n",
       "      <th>3139</th>\n",
       "      <td>34</td>\n",
       "      <td>technician</td>\n",
       "      <td>single</td>\n",
       "      <td>secondary</td>\n",
       "      <td>no</td>\n",
       "      <td>1076</td>\n",
       "      <td>no</td>\n",
       "      <td>no</td>\n",
       "      <td>cellular</td>\n",
       "      <td>8</td>\n",
       "      <td>aug</td>\n",
       "      <td>70</td>\n",
       "      <td>2</td>\n",
       "      <td>-1</td>\n",
       "      <td>0</td>\n",
       "      <td>unknown</td>\n",
       "    </tr>\n",
       "    <tr>\n",
       "      <th>1822</th>\n",
       "      <td>31</td>\n",
       "      <td>management</td>\n",
       "      <td>married</td>\n",
       "      <td>tertiary</td>\n",
       "      <td>no</td>\n",
       "      <td>156</td>\n",
       "      <td>no</td>\n",
       "      <td>no</td>\n",
       "      <td>cellular</td>\n",
       "      <td>13</td>\n",
       "      <td>aug</td>\n",
       "      <td>657</td>\n",
       "      <td>7</td>\n",
       "      <td>-1</td>\n",
       "      <td>0</td>\n",
       "      <td>unknown</td>\n",
       "    </tr>\n",
       "    <tr>\n",
       "      <th>4445</th>\n",
       "      <td>46</td>\n",
       "      <td>blue-collar</td>\n",
       "      <td>married</td>\n",
       "      <td>primary</td>\n",
       "      <td>no</td>\n",
       "      <td>258</td>\n",
       "      <td>yes</td>\n",
       "      <td>no</td>\n",
       "      <td>unknown</td>\n",
       "      <td>27</td>\n",
       "      <td>may</td>\n",
       "      <td>217</td>\n",
       "      <td>1</td>\n",
       "      <td>-1</td>\n",
       "      <td>0</td>\n",
       "      <td>unknown</td>\n",
       "    </tr>\n",
       "  </tbody>\n",
       "</table>\n",
       "</div>"
      ],
      "text/plain": [
       "      age           job   marital  education default  balance housing loan  \\\n",
       "978    34  entrepreneur  divorced   tertiary      no      262      no   no   \n",
       "251    32    management   married   tertiary      no     2349      no   no   \n",
       "3139   34    technician    single  secondary      no     1076      no   no   \n",
       "1822   31    management   married   tertiary      no      156      no   no   \n",
       "4445   46   blue-collar   married    primary      no      258     yes   no   \n",
       "\n",
       "       contact  day month  duration  campaign  pdays  previous poutcome  \n",
       "978   cellular   20   nov       371         1     -1         0  unknown  \n",
       "251   cellular   14   aug       134         5     -1         0  unknown  \n",
       "3139  cellular    8   aug        70         2     -1         0  unknown  \n",
       "1822  cellular   13   aug       657         7     -1         0  unknown  \n",
       "4445   unknown   27   may       217         1     -1         0  unknown  "
      ]
     },
     "execution_count": 11,
     "metadata": {},
     "output_type": "execute_result"
    }
   ],
   "source": [
    "X_train.head()"
   ]
  },
  {
   "cell_type": "markdown",
   "id": "79123e7e",
   "metadata": {},
   "source": [
    "# Implement the four classifiers: k-nearest neighbors, logistic regression, decision trees, and support vector machines.\n",
    "        "
   ]
  },
  {
   "cell_type": "code",
   "execution_count": 12,
   "id": "43b7eadc",
   "metadata": {},
   "outputs": [
    {
     "name": "stdout",
     "output_type": "stream",
     "text": [
      "All classifiers have been trained.\n"
     ]
    }
   ],
   "source": [
    "import pandas as pd\n",
    "from sklearn.compose import ColumnTransformer\n",
    "from sklearn.preprocessing import StandardScaler, OneHotEncoder\n",
    "from sklearn.pipeline import Pipeline\n",
    "from sklearn.neighbors import KNeighborsClassifier\n",
    "from sklearn.linear_model import LogisticRegression\n",
    "from sklearn.tree import DecisionTreeClassifier\n",
    "from sklearn.svm import SVC\n",
    "\n",
    "\n",
    "# Define the column transformer\n",
    "preprocessor = ColumnTransformer(\n",
    "    transformers=[\n",
    "        ('num', StandardScaler(), ['age', 'balance', 'day', 'duration', 'campaign', 'pdays', 'previous']),\n",
    "        ('cat', OneHotEncoder(), ['job', 'marital', 'education', 'default', 'housing', 'loan', 'contact', 'month', 'poutcome'])\n",
    "    ])\n",
    "\n",
    "# Define the classifiers\n",
    "knn = Pipeline(steps=[('preprocessor', preprocessor), ('classifier', KNeighborsClassifier())])\n",
    "logreg = Pipeline(steps=[('preprocessor', preprocessor), ('classifier', LogisticRegression())])\n",
    "dtree = Pipeline(steps=[('preprocessor', preprocessor), ('classifier', DecisionTreeClassifier())])\n",
    "svm = Pipeline(steps=[('preprocessor', preprocessor), ('classifier', SVC())])\n",
    "\n",
    "# Training the classifiers\n",
    "knn.fit(X_train, y_train)\n",
    "logreg.fit(X_train, y_train)\n",
    "dtree.fit(X_train, y_train)\n",
    "svm.fit(X_train, y_train)\n",
    "\n",
    "print('All classifiers have been trained.')\n"
   ]
  },
  {
   "cell_type": "code",
   "execution_count": 13,
   "id": "43cd3771",
   "metadata": {},
   "outputs": [
    {
     "name": "stdout",
     "output_type": "stream",
     "text": [
      "Data preprocessing and splitting complete.\n"
     ]
    }
   ],
   "source": [
    "from sklearn.preprocessing import OneHotEncoder\n",
    "import numpy as np\n",
    "\n",
    "# Identifying categorical columns\n",
    "categorical_columns = bank_data.select_dtypes(include=['object']).columns\n",
    "\n",
    "# Applying OneHotEncoder to categorical columns\n",
    "encoder = OneHotEncoder()\n",
    "X_encoded = encoder.fit_transform(bank_data[categorical_columns])\n",
    "\n",
    "# Combining encoded categorical data with numerical data\n",
    "numerical_data = bank_data.select_dtypes(exclude=['object'])\n",
    "X_preprocessed = np.hstack((numerical_data.values, X_encoded.toarray()))\n",
    "\n",
    "# Now applying StandardScaler to the preprocessed data\n",
    "scaler = StandardScaler()\n",
    "X_scaled = scaler.fit_transform(X_preprocessed)\n",
    "\n",
    "# Splitting the data again after preprocessing\n",
    "X_train, X_test, y_train, y_test = train_test_split(X_scaled, y, test_size=0.2, random_state=42)\n",
    "\n",
    "print('Data preprocessing and splitting complete.')"
   ]
  },
  {
   "cell_type": "code",
   "execution_count": null,
   "id": "471fd58f",
   "metadata": {},
   "outputs": [],
   "source": [
    "from sklearn.preprocessing import OneHotEncoder\n",
    "\n",
    "# Identifying categorical columns\n",
    "categorical_columns = bank_data.select_dtypes(include=['object']).columns\n",
    "\n",
    "# Applying OneHotEncoder to categorical columns\n",
    "encoder = OneHotEncoder()\n",
    "X_encoded = encoder.fit_transform(bank_data[categorical_columns])\n",
    "\n",
    "# Combining encoded categorical data with numerical data\n",
    "numerical_data = bank_data.select_dtypes(exclude=['object'])\n",
    "X_preprocessed = np.hstack((numerical_data.values, X_encoded.toarray()))\n",
    "\n",
    "# Now applying StandardScaler to the preprocessed data\n",
    "scaler = StandardScaler()\n",
    "X_scaled = scaler.fit_transform(X_preprocessed)\n",
    "\n",
    "# Splitting the data again after preprocessing\n",
    "X_train, X_test, y_train, y_test = train_test_split(X_scaled, y, test_size=0.2, random_state=42)\n",
    "\n",
    "# Re-training the classifiers with the preprocessed data\n",
    "knn.fit(X_train, y_train)\n",
    "logreg.fit(X_train, y_train)\n",
    "dtree.fit(X_train, y_train)  # Decision trees do not require feature scaling\n",
    "svm.fit(X_train, y_train)\n",
    "\n",
    "print('All classifiers have been re-trained with preprocessed data.')"
   ]
  },
  {
   "cell_type": "code",
   "execution_count": 14,
   "id": "2d2829cb",
   "metadata": {},
   "outputs": [
    {
     "name": "stdout",
     "output_type": "stream",
     "text": [
      "Data preprocessing and splitting complete.\n"
     ]
    }
   ],
   "source": [
    "from sklearn.preprocessing import OneHotEncoder\n",
    "import numpy as np\n",
    "\n",
    "# Identifying categorical columns\n",
    "categorical_columns = bank_data.select_dtypes(include=['object']).columns\n",
    "\n",
    "# Applying OneHotEncoder to categorical columns\n",
    "encoder = OneHotEncoder()\n",
    "X_encoded = encoder.fit_transform(bank_data[categorical_columns])\n",
    "\n",
    "# Combining encoded categorical data with numerical data\n",
    "numerical_data = bank_data.select_dtypes(exclude=['object'])\n",
    "X_preprocessed = np.hstack((numerical_data.values, X_encoded.toarray()))\n",
    "\n",
    "# Now applying StandardScaler to the preprocessed data\n",
    "scaler = StandardScaler()\n",
    "X_scaled = scaler.fit_transform(X_preprocessed)\n",
    "\n",
    "# Splitting the data again after preprocessing\n",
    "X_train, X_test, y_train, y_test = train_test_split(X_scaled, y, test_size=0.2, random_state=42)\n",
    "\n",
    "print('Data preprocessing and splitting complete.')"
   ]
  },
  {
   "cell_type": "code",
   "execution_count": 15,
   "id": "a2af83dd",
   "metadata": {},
   "outputs": [
    {
     "name": "stdout",
     "output_type": "stream",
     "text": [
      "All classifiers have been re-trained with preprocessed data.\n"
     ]
    }
   ],
   "source": [
    "# Re-initializing classifiers after fixing preprocessing issues\n",
    "knn = KNeighborsClassifier()\n",
    "logreg = LogisticRegression()\n",
    "dtree = DecisionTreeClassifier()\n",
    "svm = SVC()\n",
    "\n",
    "# Re-training the classifiers with the preprocessed data\n",
    "knn.fit(X_train, y_train)\n",
    "logreg.fit(X_train, y_train)\n",
    "dtree.fit(X_train, y_train)  # Decision trees do not require feature scaling\n",
    "svm.fit(X_train, y_train)\n",
    "\n",
    "print('All classifiers have been re-trained with preprocessed data.')"
   ]
  },
  {
   "cell_type": "code",
   "execution_count": 16,
   "id": "b0fa0c5b",
   "metadata": {},
   "outputs": [
    {
     "name": "stdout",
     "output_type": "stream",
     "text": [
      "Accuracy of k-nearest neighbors: 0.9878453038674033\n",
      "Accuracy of logistic regression: 1.0\n",
      "Accuracy of decision trees: 1.0\n",
      "Accuracy of support vector machines: 0.9966850828729282\n"
     ]
    }
   ],
   "source": [
    "from sklearn.metrics import accuracy_score\n",
    "\n",
    "# Predictions from the classifiers\n",
    "y_pred_knn = knn.predict(X_test)\n",
    "y_pred_logreg = logreg.predict(X_test)\n",
    "y_pred_dtree = dtree.predict(X_test)\n",
    "y_pred_svm = svm.predict(X_test)\n",
    "\n",
    "# Calculating accuracy scores\n",
    "accuracy_knn = accuracy_score(y_test, y_pred_knn)\n",
    "accuracy_logreg = accuracy_score(y_test, y_pred_logreg)\n",
    "accuracy_dtree = accuracy_score(y_test, y_pred_dtree)\n",
    "accuracy_svm = accuracy_score(y_test, y_pred_svm)\n",
    "\n",
    "# Displaying the accuracy scores\n",
    "print('Accuracy of k-nearest neighbors:', accuracy_knn)\n",
    "print('Accuracy of logistic regression:', accuracy_logreg)\n",
    "print('Accuracy of decision trees:', accuracy_dtree)\n",
    "print('Accuracy of support vector machines:', accuracy_svm)"
   ]
  },
  {
   "cell_type": "markdown",
   "id": "cef5248c",
   "metadata": {},
   "source": [
    "#### Model Evaluation:\n",
    "\n",
    "Evaluate each model using appropriate metrics (accuracy, precision, recall, F1-score, ROC-AUC).\n"
   ]
  },
  {
   "cell_type": "code",
   "execution_count": 17,
   "id": "4491ce1c",
   "metadata": {},
   "outputs": [
    {
     "name": "stdout",
     "output_type": "stream",
     "text": [
      "Metrics for k-nearest neighbors:Precision: 0.988254571491518 Recall: 0.9483600131502414 F1-Score: 0.9671994490957196 ROC-AUC: 0.9935639683382648\n",
      "Metrics for logistic regression:Precision: 1.0 Recall: 1.0 F1-Score: 1.0 ROC-AUC: 1.0\n",
      "Metrics for decision trees:Precision: 1.0 Recall: 1.0 F1-Score: 1.0 ROC-AUC: 1.0\n",
      "Metrics for support vector machines:Precision: 0.9981481481481482 Recall: 0.9846938775510203 F1-Score: 0.9913003354898248 ROC-AUC: 1.0\n"
     ]
    }
   ],
   "source": [
    "\n",
    "from sklearn.metrics import precision_score, recall_score, f1_score, roc_auc_score\n",
    "\n",
    "# Calculating precision, recall, F1-score, and ROC-AUC for each classifier\n",
    "precision_knn = precision_score(y_test, y_pred_knn, average='macro')\n",
    "recall_knn = recall_score(y_test, y_pred_knn, average='macro')\n",
    "f1_knn = f1_score(y_test, y_pred_knn, average='macro')\n",
    "roc_auc_knn = roc_auc_score(y_test, knn.predict_proba(X_test)[:, 1])\n",
    "\n",
    "precision_logreg = precision_score(y_test, y_pred_logreg, average='macro')\n",
    "recall_logreg = recall_score(y_test, y_pred_logreg, average='macro')\n",
    "f1_logreg = f1_score(y_test, y_pred_logreg, average='macro')\n",
    "roc_auc_logreg = roc_auc_score(y_test, logreg.predict_proba(X_test)[:, 1])\n",
    "\n",
    "precision_dtree = precision_score(y_test, y_pred_dtree, average='macro')\n",
    "recall_dtree = recall_score(y_test, y_pred_dtree, average='macro')\n",
    "f1_dtree = f1_score(y_test, y_pred_dtree, average='macro')\n",
    "roc_auc_dtree = roc_auc_score(y_test, dtree.predict_proba(X_test)[:, 1])\n",
    "\n",
    "precision_svm = precision_score(y_test, y_pred_svm, average='macro')\n",
    "recall_svm = recall_score(y_test, y_pred_svm, average='macro')\n",
    "f1_svm = f1_score(y_test, y_pred_svm, average='macro')\n",
    "roc_auc_svm = roc_auc_score(y_test, svm.decision_function(X_test))\n",
    "\n",
    "# Displaying the metrics\n",
    "print('Metrics for k-nearest neighbors:\\\n",
    "Precision:', precision_knn, '\\\n",
    "Recall:', recall_knn, '\\\n",
    "F1-Score:', f1_knn, '\\\n",
    "ROC-AUC:', roc_auc_knn)\n",
    "print('\\\n",
    "Metrics for logistic regression:\\\n",
    "Precision:', precision_logreg, '\\\n",
    "Recall:', recall_logreg, '\\\n",
    "F1-Score:', f1_logreg, '\\\n",
    "ROC-AUC:', roc_auc_logreg)\n",
    "print('\\\n",
    "Metrics for decision trees:\\\n",
    "Precision:', precision_dtree, '\\\n",
    "Recall:', recall_dtree, '\\\n",
    "F1-Score:', f1_dtree, '\\\n",
    "ROC-AUC:', roc_auc_dtree)\n",
    "print('\\\n",
    "Metrics for support vector machines:\\\n",
    "Precision:', precision_svm, '\\\n",
    "Recall:', recall_svm, '\\\n",
    "F1-Score:', f1_svm, '\\\n",
    "ROC-AUC:', roc_auc_svm)"
   ]
  },
  {
   "cell_type": "markdown",
   "id": "5126c5ca",
   "metadata": {},
   "source": [
    "k-nearest neighbors:\n",
    "Precision: 98.83%\n",
    "Recall: 94.84%\n",
    "F1-Score: 96.72%\n",
    "ROC-AUC: 99.36%\n",
    "\n",
    "Logistic regression:\n",
    "Precision: 100%\n",
    "Recall: 100%\n",
    "F1-Score: 100%\n",
    "ROC-AUC: 100%\n",
    "\n",
    "Decision trees:\n",
    "Precision: 100%\n",
    "Recall: 100%\n",
    "F1-Score: 100%\n",
    "ROC-AUC: 100%\n",
    "\n",
    "Support vector machines:\n",
    "Precision: 99.81%\n",
    "Recall: 98.47%\n",
    "F1-Score: 99.13%\n",
    "ROC-AUC: 100%\n"
   ]
  },
  {
   "cell_type": "markdown",
   "id": "e42d1687",
   "metadata": {},
   "source": [
    "### Compare the performance of the classifiers.\n",
    "\n",
    "        "
   ]
  },
  {
   "cell_type": "markdown",
   "id": "9e4773e8",
   "metadata": {},
   "source": [
    "##### Precision:\n",
    "Logistic Regression and Decision Trees stand out with perfect precision scores of 100%, indicating no false positives among the predictions.\n",
    "Support Vector Machines also perform excellently with a precision of 99.81%.\n",
    "k-Nearest Neighbors has a slightly lower precision of 98.83%, but still very high.\n",
    "##### Recall:\n",
    "Logistic Regression and Decision Trees again have perfect recall scores of 100%, meaning they successfully identified all positive samples.\n",
    "Support Vector Machines has a recall of 98.47%, slightly lower but still very effective.\n",
    "k-Nearest Neighbors has the lowest recall at 94.84%, indicating it missed some positive cases.\n",
    "##### F1-Score:\n",
    "Logistic Regression and Decision Trees have perfect F1-scores of 100%, showing a perfect balance between precision and recall.\n",
    "Support Vector Machines follows closely with an F1-score of 99.13%.\n",
    "k-Nearest Neighbors has an F1-score of 96.72%, the lowest among the classifiers but still indicative of strong performance.\n",
    "##### ROC-AUC:\n",
    "Logistic Regression, Decision Trees, and Support Vector Machines all achieved perfect ROC-AUC scores of 100%, demonstrating excellent discrimination between the positive and negative classes.\n",
    "k-Nearest Neighbors has a slightly lower ROC-AUC of 99.36%, but this is still considered excellent.\n",
    "##### Summary:\n",
    "Logistic Regression and Decision Trees are the top performers across all metrics, showing perfect scores. They are particularly suitable for scenarios where both false positives and false negatives are critically important to minimize.\n",
    "Support Vector Machines also shows robust performance, particularly in precision and ROC-AUC, making it a strong candidate for many binary classification tasks.\n",
    "k-Nearest Neighbors, while slightly lagging behind in recall and F1-score, still demonstrates high effectiveness, especially in scenarios where the interpretability of a simpler model might be preferred."
   ]
  },
  {
   "cell_type": "markdown",
   "id": "a5845608",
   "metadata": {},
   "source": [
    "### Inferential Statistics:\n",
    "\n",
    "Statistical tests results and infer conclusions\n",
    "\n",
    "k-Nearest Neighbors vs. Support Vector Machines: Since both classifiers have only one F1-score from the test set, a t-test isn't appropriate here due to insufficient data points. However, from the earlier comparison, we know that Support Vector Machines performed slightly better than k-Nearest Neighbors.\n",
    "Logistic Regression vs. Decision Trees: Both classifiers achieved perfect scores across all metrics, indicating identical performance. Therefore, a statistical test is not necessary to conclude that there is no significant difference in their performance on this dataset.\n"
   ]
  },
  {
   "cell_type": "markdown",
   "id": "add39177",
   "metadata": {},
   "source": [
    "### Insights and Recommendations:\n",
    "\n",
    "Draw insights from the model comparisons and the data analysis.\n",
    "Provide actionable recommendations based on the findings."
   ]
  },
  {
   "cell_type": "markdown",
   "id": "6e407875",
   "metadata": {},
   "source": [
    "The paired t-tests conducted to compare the F1-scores of the classifiers resulted in the same values for both the t-statistics and p-values. This outcome typically occurs when the sample size is too small (in this case, only one value per classifier) or when there is no variance between the compared scores.\n",
    "##### For the comparison between k-Nearest Neighbors and Support Vector Machines:\n",
    "Since both classifiers have only one F1-score from the test set, a t-test is not appropriate due to insufficient data points.\n",
    "However, from the earlier comparison, it is known that Support Vector Machines performed slightly better than k-Nearest Neighbors.\n",
    "For the comparison between Logistic Regression and Decision Trees:\n",
    "Both classifiers achieved perfect scores across all metrics, indicating identical performance.\n",
    "Therefore, a statistical test is not necessary to conclude that there is no significant difference in their performance on this dataset.\n",
    "In summary, the lack of variance in the F1-scores between the classifiers, either due to small sample size or identical performance, prevented the use of a paired t-test to determine statistical significance. However, the available information suggests that Support Vector Machines performed slightly better than k-Nearest Neighbors, while Logistic Regression and Decision Trees achieved the same perfect performance on this dataset."
   ]
  },
  {
   "cell_type": "markdown",
   "id": "334c2461",
   "metadata": {},
   "source": [
    "High Performance Across Models:\n",
    "\n",
    "All classifiers demonstrated high accuracy, precision, recall, F1-score, and ROC-AUC values. This suggests that the dataset is well-processed and the features are effective in distinguishing between classes.\n",
    "Perfect Scores in Some Models:\n",
    "\n",
    "Logistic Regression and Decision Trees achieved perfect scores in all metrics, indicating that these models are highly effective for this particular dataset. This could be due to a clear linear separability in the data or decision boundaries that align well with the decision rules of these models.\n",
    "Slightly Lower Performance of k-NN:\n",
    "\n",
    "The k-Nearest Neighbors classifier, while still performing well, had slightly lower recall and F1-score compared to other models. This might be due to its sensitivity to the local data structure and noise in the dataset.\n",
    "Support Vector Machines' Robustness:\n",
    "\n",
    "Support Vector Machines showed robust performance, particularly in handling both classes effectively, as indicated by its high precision and recall."
   ]
  },
  {
   "cell_type": "markdown",
   "id": "3b585324",
   "metadata": {},
   "source": [
    "1. Targeted Marketing Campaigns\n",
    "2. Customer Retention Strategies\n",
    "3. Risk Management\n",
    "4. Product Development\n",
    "5. Strategic Decision Making\n",
    "   "
   ]
  }
 ],
 "metadata": {
  "kernelspec": {
   "display_name": "Python 3 (ipykernel)",
   "language": "python",
   "name": "python3"
  },
  "language_info": {
   "codemirror_mode": {
    "name": "ipython",
    "version": 3
   },
   "file_extension": ".py",
   "mimetype": "text/x-python",
   "name": "python",
   "nbconvert_exporter": "python",
   "pygments_lexer": "ipython3",
   "version": "3.11.4"
  }
 },
 "nbformat": 4,
 "nbformat_minor": 5
}
